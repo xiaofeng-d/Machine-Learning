{
 "cells": [
  {
   "cell_type": "code",
   "execution_count": 1,
   "metadata": {},
   "outputs": [],
   "source": [
    "import bayes"
   ]
  },
  {
   "cell_type": "code",
   "execution_count": 2,
   "metadata": {},
   "outputs": [],
   "source": [
    "list0Posts, listClasses =  bayes.loadDataSet()"
   ]
  },
  {
   "cell_type": "code",
   "execution_count": 4,
   "metadata": {},
   "outputs": [],
   "source": [
    "myVocabList =bayes.createVocabList(list0Posts)"
   ]
  },
  {
   "cell_type": "code",
   "execution_count": 5,
   "metadata": {},
   "outputs": [
    {
     "data": {
      "text/plain": [
       "['maybe',\n",
       " 'has',\n",
       " 'ate',\n",
       " 'stupid',\n",
       " 'stop',\n",
       " 'buying',\n",
       " 'not',\n",
       " 'him',\n",
       " 'love',\n",
       " 'steak',\n",
       " 'food',\n",
       " 'quit',\n",
       " 'my',\n",
       " 'please',\n",
       " 'I',\n",
       " 'garbage',\n",
       " 'mr',\n",
       " 'to',\n",
       " 'flea',\n",
       " 'take',\n",
       " 'how',\n",
       " 'problems',\n",
       " 'licks',\n",
       " 'help',\n",
       " 'cute',\n",
       " 'dalmation',\n",
       " 'park',\n",
       " 'so',\n",
       " 'posting',\n",
       " 'is',\n",
       " 'dog',\n",
       " 'worthless']"
      ]
     },
     "execution_count": 5,
     "metadata": {},
     "output_type": "execute_result"
    }
   ],
   "source": [
    "myVocabList"
   ]
  },
  {
   "cell_type": "code",
   "execution_count": null,
   "metadata": {},
   "outputs": [],
   "source": []
  }
 ],
 "metadata": {
  "kernelspec": {
   "display_name": "Python 3.8.8 ('base')",
   "language": "python",
   "name": "python3"
  },
  "language_info": {
   "codemirror_mode": {
    "name": "ipython",
    "version": 3
   },
   "file_extension": ".py",
   "mimetype": "text/x-python",
   "name": "python",
   "nbconvert_exporter": "python",
   "pygments_lexer": "ipython3",
   "version": "3.8.8"
  },
  "orig_nbformat": 4,
  "vscode": {
   "interpreter": {
    "hash": "3275a70c08a2654dce7f17e6cef2ea30bf1934ac50b54a3721dbeeaa5ad1719a"
   }
  }
 },
 "nbformat": 4,
 "nbformat_minor": 2
}
