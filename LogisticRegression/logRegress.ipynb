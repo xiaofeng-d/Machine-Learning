{
 "cells": [
  {
   "cell_type": "code",
   "execution_count": 1,
   "metadata": {},
   "outputs": [],
   "source": [
    "import logRegres\n",
    "import numpy as np"
   ]
  },
  {
   "cell_type": "code",
   "execution_count": 2,
   "metadata": {},
   "outputs": [],
   "source": [
    "dataArr, labelMat = logRegres.loadDataSet()"
   ]
  },
  {
   "cell_type": "code",
   "execution_count": 3,
   "metadata": {},
   "outputs": [
    {
     "data": {
      "text/plain": [
       "([[1.0, -0.017612, 14.053064],\n",
       "  [1.0, -1.395634, 4.662541],\n",
       "  [1.0, -0.752157, 6.53862],\n",
       "  [1.0, -1.322371, 7.152853],\n",
       "  [1.0, 0.423363, 11.054677],\n",
       "  [1.0, 0.406704, 7.067335],\n",
       "  [1.0, 0.667394, 12.741452],\n",
       "  [1.0, -2.46015, 6.866805],\n",
       "  [1.0, 0.569411, 9.548755],\n",
       "  [1.0, -0.026632, 10.427743],\n",
       "  [1.0, 0.850433, 6.920334],\n",
       "  [1.0, 1.347183, 13.1755],\n",
       "  [1.0, 1.176813, 3.16702],\n",
       "  [1.0, -1.781871, 9.097953],\n",
       "  [1.0, -0.566606, 5.749003],\n",
       "  [1.0, 0.931635, 1.589505],\n",
       "  [1.0, -0.024205, 6.151823],\n",
       "  [1.0, -0.036453, 2.690988],\n",
       "  [1.0, -0.196949, 0.444165],\n",
       "  [1.0, 1.014459, 5.754399],\n",
       "  [1.0, 1.985298, 3.230619],\n",
       "  [1.0, -1.693453, -0.55754],\n",
       "  [1.0, -0.576525, 11.778922],\n",
       "  [1.0, -0.346811, -1.67873],\n",
       "  [1.0, -2.124484, 2.672471],\n",
       "  [1.0, 1.217916, 9.597015],\n",
       "  [1.0, -0.733928, 9.098687],\n",
       "  [1.0, -3.642001, -1.618087],\n",
       "  [1.0, 0.315985, 3.523953],\n",
       "  [1.0, 1.416614, 9.619232],\n",
       "  [1.0, -0.386323, 3.989286],\n",
       "  [1.0, 0.556921, 8.294984],\n",
       "  [1.0, 1.224863, 11.58736],\n",
       "  [1.0, -1.347803, -2.406051],\n",
       "  [1.0, 1.196604, 4.951851],\n",
       "  [1.0, 0.275221, 9.543647],\n",
       "  [1.0, 0.470575, 9.332488],\n",
       "  [1.0, -1.889567, 9.542662],\n",
       "  [1.0, -1.527893, 12.150579],\n",
       "  [1.0, -1.185247, 11.309318],\n",
       "  [1.0, -0.445678, 3.297303],\n",
       "  [1.0, 1.042222, 6.105155],\n",
       "  [1.0, -0.618787, 10.320986],\n",
       "  [1.0, 1.152083, 0.548467],\n",
       "  [1.0, 0.828534, 2.676045],\n",
       "  [1.0, -1.237728, 10.549033],\n",
       "  [1.0, -0.683565, -2.166125],\n",
       "  [1.0, 0.229456, 5.921938],\n",
       "  [1.0, -0.959885, 11.555336],\n",
       "  [1.0, 0.492911, 10.993324],\n",
       "  [1.0, 0.184992, 8.721488],\n",
       "  [1.0, -0.355715, 10.325976],\n",
       "  [1.0, -0.397822, 8.058397],\n",
       "  [1.0, 0.824839, 13.730343],\n",
       "  [1.0, 1.507278, 5.027866],\n",
       "  [1.0, 0.099671, 6.835839],\n",
       "  [1.0, -0.344008, 10.717485],\n",
       "  [1.0, 1.785928, 7.718645],\n",
       "  [1.0, -0.918801, 11.560217],\n",
       "  [1.0, -0.364009, 4.7473],\n",
       "  [1.0, -0.841722, 4.119083],\n",
       "  [1.0, 0.490426, 1.960539],\n",
       "  [1.0, -0.007194, 9.075792],\n",
       "  [1.0, 0.356107, 12.447863],\n",
       "  [1.0, 0.342578, 12.281162],\n",
       "  [1.0, -0.810823, -1.466018],\n",
       "  [1.0, 2.530777, 6.476801],\n",
       "  [1.0, 1.296683, 11.607559],\n",
       "  [1.0, 0.475487, 12.040035],\n",
       "  [1.0, -0.783277, 11.009725],\n",
       "  [1.0, 0.074798, 11.02365],\n",
       "  [1.0, -1.337472, 0.468339],\n",
       "  [1.0, -0.102781, 13.763651],\n",
       "  [1.0, -0.147324, 2.874846],\n",
       "  [1.0, 0.518389, 9.887035],\n",
       "  [1.0, 1.015399, 7.571882],\n",
       "  [1.0, -1.658086, -0.027255],\n",
       "  [1.0, 1.319944, 2.171228],\n",
       "  [1.0, 2.056216, 5.019981],\n",
       "  [1.0, -0.851633, 4.375691],\n",
       "  [1.0, -1.510047, 6.061992],\n",
       "  [1.0, -1.076637, -3.181888],\n",
       "  [1.0, 1.821096, 10.28399],\n",
       "  [1.0, 3.01015, 8.401766],\n",
       "  [1.0, -1.099458, 1.688274],\n",
       "  [1.0, -0.834872, -1.733869],\n",
       "  [1.0, -0.846637, 3.849075],\n",
       "  [1.0, 1.400102, 12.628781],\n",
       "  [1.0, 1.752842, 5.468166],\n",
       "  [1.0, 0.078557, 0.059736],\n",
       "  [1.0, 0.089392, -0.7153],\n",
       "  [1.0, 1.825662, 12.693808],\n",
       "  [1.0, 0.197445, 9.744638],\n",
       "  [1.0, 0.126117, 0.922311],\n",
       "  [1.0, -0.679797, 1.22053],\n",
       "  [1.0, 0.677983, 2.556666],\n",
       "  [1.0, 0.761349, 10.693862],\n",
       "  [1.0, -2.168791, 0.143632],\n",
       "  [1.0, 1.38861, 9.341997],\n",
       "  [1.0, 0.317029, 14.739025]],\n",
       " [0,\n",
       "  1,\n",
       "  0,\n",
       "  0,\n",
       "  0,\n",
       "  1,\n",
       "  0,\n",
       "  1,\n",
       "  0,\n",
       "  0,\n",
       "  1,\n",
       "  0,\n",
       "  1,\n",
       "  0,\n",
       "  1,\n",
       "  1,\n",
       "  1,\n",
       "  1,\n",
       "  1,\n",
       "  1,\n",
       "  1,\n",
       "  1,\n",
       "  0,\n",
       "  1,\n",
       "  1,\n",
       "  0,\n",
       "  0,\n",
       "  1,\n",
       "  1,\n",
       "  0,\n",
       "  1,\n",
       "  1,\n",
       "  0,\n",
       "  1,\n",
       "  1,\n",
       "  0,\n",
       "  0,\n",
       "  0,\n",
       "  0,\n",
       "  0,\n",
       "  1,\n",
       "  1,\n",
       "  0,\n",
       "  1,\n",
       "  1,\n",
       "  0,\n",
       "  1,\n",
       "  1,\n",
       "  0,\n",
       "  0,\n",
       "  0,\n",
       "  0,\n",
       "  0,\n",
       "  0,\n",
       "  1,\n",
       "  1,\n",
       "  0,\n",
       "  1,\n",
       "  0,\n",
       "  1,\n",
       "  1,\n",
       "  1,\n",
       "  0,\n",
       "  0,\n",
       "  0,\n",
       "  1,\n",
       "  1,\n",
       "  0,\n",
       "  0,\n",
       "  0,\n",
       "  0,\n",
       "  1,\n",
       "  0,\n",
       "  1,\n",
       "  0,\n",
       "  0,\n",
       "  1,\n",
       "  1,\n",
       "  1,\n",
       "  1,\n",
       "  0,\n",
       "  1,\n",
       "  0,\n",
       "  1,\n",
       "  1,\n",
       "  1,\n",
       "  1,\n",
       "  0,\n",
       "  1,\n",
       "  1,\n",
       "  1,\n",
       "  0,\n",
       "  0,\n",
       "  1,\n",
       "  1,\n",
       "  1,\n",
       "  0,\n",
       "  1,\n",
       "  0,\n",
       "  0])"
      ]
     },
     "execution_count": 3,
     "metadata": {},
     "output_type": "execute_result"
    }
   ],
   "source": [
    "dataArr,labelMat"
   ]
  },
  {
   "cell_type": "code",
   "execution_count": 11,
   "metadata": {},
   "outputs": [
    {
     "name": "stdout",
     "output_type": "stream",
     "text": [
      "(1, 3)\n",
      "4.124143489627892\n"
     ]
    },
    {
     "data": {
      "image/png": "[encoded data removed]",
      "text/plain": [
       "<Figure size 432x288 with 1 Axes>"
      ]
     },
     "metadata": {
      "needs_background": "light"
     },
     "output_type": "display_data"
    }
   ],
   "source": [
    "weights = logRegres.gradAscent(np.array(dataArr),labelMat)\n",
    "print(weights.flatten().shape)\n",
    "weights = weights.flatten()\n",
    "## note that due to the mtrix multiplication, here the weights are [3,1] numpy matrix, instead of length [3] numpy array \n",
    "print(weights[0,0])\n",
    "weights = [weights[0,i] for i in range(3) ]\n",
    "logRegres.plotBestFit(weights)\n"
   ]
  },
  {
   "cell_type": "code",
   "execution_count": 11,
   "metadata": {},
   "outputs": [
    {
     "name": "stdout",
     "output_type": "stream",
     "text": [
      "(3,)\n"
     ]
    },
    {
     "data": {
      "image/png": "[encoded data removed]",
      "text/plain": [
       "<Figure size 432x288 with 1 Axes>"
      ]
     },
     "metadata": {
      "needs_background": "light"
     },
     "output_type": "display_data"
    }
   ],
   "source": [
    "weights = logRegres.stocGradAscent0(np.array(dataArr),labelMat)\n",
    "print(weights.shape)\n",
    "logRegres.plotBestFit(weights)"
   ]
  },
  {
   "cell_type": "code",
   "execution_count": 5,
   "metadata": {},
   "outputs": [
    {
     "data": {
      "image/png": "[encoded data removed]",
      "text/plain": [
       "<Figure size 432x288 with 1 Axes>"
      ]
     },
     "metadata": {
      "needs_background": "light"
     },
     "output_type": "display_data"
    }
   ],
   "source": [
    "weights2 = logRegres.stocGradAscent1(np.array(dataArr),labelMat)\n",
    "logRegres.plotBestFit(weights2)"
   ]
  },
  {
   "cell_type": "code",
   "execution_count": null,
   "metadata": {},
   "outputs": [],
   "source": []
  }
 ],
 "metadata": {
  "kernelspec": {
   "display_name": "Python 3.8.8 ('base')",
   "language": "python",
   "name": "python3"
  },
  "language_info": {
   "codemirror_mode": {
    "name": "ipython",
    "version": 3
   },
   "file_extension": ".py",
   "mimetype": "text/x-python",
   "name": "python",
   "nbconvert_exporter": "python",
   "pygments_lexer": "ipython3",
   "version": "3.8.8"
  },
  "orig_nbformat": 4,
  "vscode": {
   "interpreter": {
    "hash": "3275a70c08a2654dce7f17e6cef2ea30bf1934ac50b54a3721dbeeaa5ad1719a"
   }
  }
 },
 "nbformat": 4,
 "nbformat_minor": 2
}
